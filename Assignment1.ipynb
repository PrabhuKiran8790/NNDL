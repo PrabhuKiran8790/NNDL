{
 "cells": [
  {
   "cell_type": "code",
   "execution_count": 19,
   "id": "3be1a779",
   "metadata": {},
   "outputs": [],
   "source": [
    "import os\n",
    "import pandas as pd\n",
    "import numpy as np\n",
    "from sklearn.model_selection import train_test_split"
   ]
  },
  {
   "cell_type": "code",
   "execution_count": 20,
   "id": "27b5612b",
   "metadata": {},
   "outputs": [
    {
     "data": {
      "text/html": [
       "<div>\n",
       "<style scoped>\n",
       "    .dataframe tbody tr th:only-of-type {\n",
       "        vertical-align: middle;\n",
       "    }\n",
       "\n",
       "    .dataframe tbody tr th {\n",
       "        vertical-align: top;\n",
       "    }\n",
       "\n",
       "    .dataframe thead th {\n",
       "        text-align: right;\n",
       "    }\n",
       "</style>\n",
       "<table border=\"1\" class=\"dataframe\">\n",
       "  <thead>\n",
       "    <tr style=\"text-align: right;\">\n",
       "      <th></th>\n",
       "      <th>X</th>\n",
       "      <th>Y</th>\n",
       "    </tr>\n",
       "  </thead>\n",
       "  <tbody>\n",
       "    <tr>\n",
       "      <th>0</th>\n",
       "      <td>75.1</td>\n",
       "      <td>577.8</td>\n",
       "    </tr>\n",
       "    <tr>\n",
       "      <th>1</th>\n",
       "      <td>74.3</td>\n",
       "      <td>577.0</td>\n",
       "    </tr>\n",
       "    <tr>\n",
       "      <th>2</th>\n",
       "      <td>88.7</td>\n",
       "      <td>570.9</td>\n",
       "    </tr>\n",
       "    <tr>\n",
       "      <th>3</th>\n",
       "      <td>114.6</td>\n",
       "      <td>578.6</td>\n",
       "    </tr>\n",
       "    <tr>\n",
       "      <th>4</th>\n",
       "      <td>98.5</td>\n",
       "      <td>572.4</td>\n",
       "    </tr>\n",
       "  </tbody>\n",
       "</table>\n",
       "</div>"
      ],
      "text/plain": [
       "       X      Y\n",
       "0   75.1  577.8\n",
       "1   74.3  577.0\n",
       "2   88.7  570.9\n",
       "3  114.6  578.6\n",
       "4   98.5  572.4"
      ]
     },
     "execution_count": 20,
     "metadata": {},
     "output_type": "execute_result"
    }
   ],
   "source": [
    "df = pd.read_excel(\"assignment1.xlsx\")\n",
    "df.head()"
   ]
  },
  {
   "cell_type": "code",
   "execution_count": 21,
   "id": "a9d25726",
   "metadata": {},
   "outputs": [],
   "source": [
    "maxX = np.max(df['X'])\n",
    "minX = np.min(df['X'])\n",
    "maxY = np.max(df['Y'])\n",
    "minY = np.min(df['Y'])\n",
    "\n",
    "df['X'] = (df['X'] - minX) / (maxX - minX)\n",
    "df['Y'] = (df['Y'] - minY) / (maxY - minY)"
   ]
  },
  {
   "cell_type": "code",
   "execution_count": 22,
   "id": "133ca3b8",
   "metadata": {},
   "outputs": [],
   "source": [
    "x = df['X']\n",
    "y = df['Y']\n",
    "trainX, testX, trainY, testY = train_test_split(x, y, test_size=0.1, random_state=101)"
   ]
  },
  {
   "cell_type": "code",
   "execution_count": null,
   "id": "ddc83e6b",
   "metadata": {},
   "outputs": [],
   "source": [
    "m = np.random.uniform(-50, 50)\n",
    "c = np.random.uniform(-50, 50)\n",
    "eta = 0.5\n",
    "epochs = 500\n",
    "\n",
    "# Loop for epochs\n",
    "for _ in range(epochs):\n",
    "    \n",
    "    # Calculating Grad M\n",
    "    gradM = -sum([(trainY.iloc[i] - m * trainX.iloc[i] - c) * trainX.iloc[i] for i in range(trainX.shape[0])])\n",
    "    gradM /= trainX.shape[0]\n",
    "    \n",
    "    # Calculating Grad C\n",
    "    gradC = -sum([(trainY.iloc[i] - m * trainX.iloc[i] - c) for i in range(trainX.shape[0])])\n",
    "    gradC /= trainX.shape[0]\n",
    "    \n",
    "    # Updating m and c values\n",
    "    c += - eta * gradC\n",
    "    m += - eta * gradM\n",
    "\n",
    "# Print model parameters after training\n",
    "print(f'm = {m}\\nc = {c}')"
   ]
  },
  {
   "cell_type": "code",
   "execution_count": null,
   "id": "83ffecea",
   "metadata": {},
   "outputs": [],
   "source": [
    "train_pred = [m * trainX.iloc[i] + c for i in range(trainX.shape[0])]\n",
    "test_pred = [m * testX.iloc[i] + c for i in range(testX.shape[0])]\n",
    "\n",
    "# Denormalization of Output Values\n",
    "train_pred = [i * (maxY - minY) + minY for i in train_pred]\n",
    "test_pred = [i * (maxY - minY) + minY for i in test_pred]\n",
    "trainY = [i * (maxY - minY) + minY for i in trainY]\n",
    "testY = [i * (maxY - minY) + minY for i in testY]\n",
    "\n",
    "# Training Error Calculation\n",
    "training_MAE = sum([abs(train_pred[i] - trainY[i]) for i in range(len(trainY))]) / len(trainY)\n",
    "training_MSE = sum([(train_pred[i] - trainY[i]) ** 2 for i in range(len(trainY))]) / len(trainY)\n",
    "training_RMSE = training_MSE ** 0.5\n",
    "print('Training Error :')\n",
    "print(f'MAE : {training_MAE}')\n",
    "print(f'MSE : {training_MSE}')\n",
    "print(f'RMSE : {training_RMSE}')\n",
    "\n",
    "# Testing Error Calculation\n",
    "testing_MAE = sum([abs(test_pred[i] - testY[i]) for i in range(len(testY))]) / len(testY)\n",
    "testing_MSE = sum([(test_pred[i] - testY[i]) ** 2 for i in range(len(testY))]) / len(testY)\n",
    "testing_RMSE = testing_MSE ** 0.5\n",
    "print('\\nTesting Error :')\n",
    "print(f'MAE : {testing_MAE}')\n",
    "print(f'MSE : {testing_MSE}')\n",
    "print(f'RMSE : {testing_RMSE}')"
   ]
  },
  {
   "cell_type": "code",
   "execution_count": null,
   "id": "c6d015bc",
   "metadata": {},
   "outputs": [],
   "source": [
    "x = float(input('pressure of liquid nitrogen : '))\n",
    "x = (x - minX) / (maxX - minX)\n",
    "predictions = m * x + c\n",
    "predictions = (predictions * (maxY - minY)) + minY\n",
    "print('Predicted Weight :', predictions)"
   ]
  },
  {
   "cell_type": "code",
   "execution_count": null,
   "id": "35c1efae",
   "metadata": {},
   "outputs": [],
   "source": []
  }
 ],
 "metadata": {
  "kernelspec": {
   "display_name": "Python 3 (ipykernel)",
   "language": "python",
   "name": "python3"
  },
  "language_info": {
   "codemirror_mode": {
    "name": "ipython",
    "version": 3
   },
   "file_extension": ".py",
   "mimetype": "text/x-python",
   "name": "python",
   "nbconvert_exporter": "python",
   "pygments_lexer": "ipython3",
   "version": "3.9.7"
  }
 },
 "nbformat": 4,
 "nbformat_minor": 5
}
