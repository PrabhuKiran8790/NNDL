{
 "cells": [
  {
   "cell_type": "code",
   "execution_count": 1,
   "id": "b9789ab2",
   "metadata": {},
   "outputs": [],
   "source": [
    "import os\n",
    "import pandas as pd\n",
    "import numpy as np\n",
    "from sklearn.model_selection import train_test_split"
   ]
  },
  {
   "cell_type": "code",
   "execution_count": 2,
   "id": "f12ed671",
   "metadata": {},
   "outputs": [
    {
     "name": "stdout",
     "output_type": "stream",
     "text": [
      "(2184, 3)\n"
     ]
    },
    {
     "data": {
      "text/html": [
       "<div>\n",
       "<style scoped>\n",
       "    .dataframe tbody tr th:only-of-type {\n",
       "        vertical-align: middle;\n",
       "    }\n",
       "\n",
       "    .dataframe tbody tr th {\n",
       "        vertical-align: top;\n",
       "    }\n",
       "\n",
       "    .dataframe thead th {\n",
       "        text-align: right;\n",
       "    }\n",
       "</style>\n",
       "<table border=\"1\" class=\"dataframe\">\n",
       "  <thead>\n",
       "    <tr style=\"text-align: right;\">\n",
       "      <th></th>\n",
       "      <th>Date</th>\n",
       "      <th>Time</th>\n",
       "      <th>Load (kW)</th>\n",
       "    </tr>\n",
       "  </thead>\n",
       "  <tbody>\n",
       "    <tr>\n",
       "      <th>0</th>\n",
       "      <td>01.09.2018</td>\n",
       "      <td>00:00:00</td>\n",
       "      <td>5551.82208</td>\n",
       "    </tr>\n",
       "    <tr>\n",
       "      <th>1</th>\n",
       "      <td>NaN</td>\n",
       "      <td>01:00:00</td>\n",
       "      <td>4983.17184</td>\n",
       "    </tr>\n",
       "    <tr>\n",
       "      <th>2</th>\n",
       "      <td>NaN</td>\n",
       "      <td>02:00:00</td>\n",
       "      <td>4888.39680</td>\n",
       "    </tr>\n",
       "    <tr>\n",
       "      <th>3</th>\n",
       "      <td>NaN</td>\n",
       "      <td>03:00:00</td>\n",
       "      <td>5072.95872</td>\n",
       "    </tr>\n",
       "    <tr>\n",
       "      <th>4</th>\n",
       "      <td>NaN</td>\n",
       "      <td>04:00:00</td>\n",
       "      <td>5196.25980</td>\n",
       "    </tr>\n",
       "  </tbody>\n",
       "</table>\n",
       "</div>"
      ],
      "text/plain": [
       "         Date      Time   Load (kW)\n",
       "0  01.09.2018  00:00:00  5551.82208\n",
       "1         NaN  01:00:00  4983.17184\n",
       "2         NaN  02:00:00  4888.39680\n",
       "3         NaN  03:00:00  5072.95872\n",
       "4         NaN  04:00:00  5196.25980"
      ]
     },
     "execution_count": 2,
     "metadata": {},
     "output_type": "execute_result"
    }
   ],
   "source": [
    "data = pd.read_excel('Load Data in kW.xlsx')\n",
    "print(data.shape)\n",
    "data.head()"
   ]
  },
  {
   "cell_type": "code",
   "execution_count": 3,
   "id": "74ee0080",
   "metadata": {},
   "outputs": [],
   "source": [
    "x = []\n",
    "y = []\n",
    "for i in range(24 * 7, data.shape[0]):\n",
    "    x.append(data['Load (kW)'].iloc[i - 24 * 7])\n",
    "    y.append(data['Load (kW)'].iloc[i])\n",
    "data = pd.DataFrame({'Previous Week Load' : x, 'Present Week Load' : y})\n",
    "\n",
    "maxX = np.max(data['Previous Week Load'])\n",
    "minX = np.min(data['Previous Week Load'])\n",
    "maxY = np.max(data['Present Week Load'])\n",
    "minY = np.min(data['Present Week Load'])\n",
    "\n",
    "data['Previous Week Load'] = (data['Previous Week Load'] - minX) / (maxX - minX)\n",
    "data['Present Week Load'] = (data['Present Week Load'] - minY) / (maxY - minY)\n",
    "\n",
    "x = data['Previous Week Load']\n",
    "y = data['Present Week Load']\n",
    "trainX, testX, trainY, testY = train_test_split(x, y, test_size=0.1, random_state=101)"
   ]
  },
  {
   "cell_type": "code",
   "execution_count": 4,
   "id": "91f89a76",
   "metadata": {},
   "outputs": [],
   "source": [
    "m = np.random.uniform(-2, 2)\n",
    "c = np.random.uniform(-2, 2)\n",
    "eta = 0.5\n",
    "epochs = 500\n",
    "gm2 = 0\n",
    "gc2 = 0\n",
    "e = 1E-6\n",
    "\n",
    "for _ in range(epochs):    \n",
    "    for i in range(trainX.shape[0]):\n",
    "        gradM = -1 * (trainY.iloc[i] - m * trainX.iloc[i] - c) * trainX.iloc[i]\n",
    "    \n",
    "        gradC = -1 * (trainY.iloc[i] - m * trainX.iloc[i] - c)\n",
    "        \n",
    "        gm2 += (gradM ** 2)\n",
    "        gc2 += (gradC ** 2)\n",
    "        \n",
    "        m -= (eta * gradM) / ((e + gm2) ** 0.5)\n",
    "        c -= (eta * gradC) / ((e + gc2) ** 0.5)"
   ]
  },
  {
   "cell_type": "code",
   "execution_count": 6,
   "id": "0ebee1d2",
   "metadata": {},
   "outputs": [
    {
     "name": "stdout",
     "output_type": "stream",
     "text": [
      "Training Error :\n",
      "MAE : 737.0271924345868\n",
      "MSE : 891424.9562433384\n",
      "RMSE : 944.1530364529568\n",
      "\n",
      "Testing Error :\n",
      "MAE : 787.1173914013417\n",
      "MSE : 968116.8815661869\n",
      "RMSE : 983.9293071995502\n"
     ]
    }
   ],
   "source": [
    "train_pred = [m * trainX.iloc[i] + c for i in range(trainX.shape[0])]\n",
    "test_pred = [m * testX.iloc[i] + c for i in range(testX.shape[0])]\n",
    "\n",
    "train_pred = [i * (maxY - minY) + minY for i in train_pred]\n",
    "test_pred = [i * (maxY - minY) + minY for i in test_pred]\n",
    "trainY = [i * (maxY - minY) + minY for i in trainY]\n",
    "testY = [i * (maxY - minY) + minY for i in testY]\n",
    "\n",
    "training_MAE = sum([abs(train_pred[i] - trainY[i]) for i in range(len(trainY))]) / len(trainY)\n",
    "training_MSE = sum([(train_pred[i] - trainY[i]) ** 2 for i in range(len(trainY))]) / len(trainY)\n",
    "training_RMSE = training_MSE ** 0.5\n",
    "print('Training Error :')\n",
    "print(f'MAE : {training_MAE}')\n",
    "print(f'MSE : {training_MSE}')\n",
    "print(f'RMSE : {training_RMSE}')\n",
    "\n",
    "testing_MAE = sum([abs(test_pred[i] - testY[i]) for i in range(len(testY))]) / len(testY)\n",
    "testing_MSE = sum([(test_pred[i] - testY[i]) ** 2 for i in range(len(testY))]) / len(testY)\n",
    "testing_RMSE = testing_MSE ** 0.5\n",
    "print('\\nTesting Error :')\n",
    "print(f'MAE : {testing_MAE}')\n",
    "print(f'MSE : {testing_MSE}')\n",
    "print(f'RMSE : {testing_RMSE}')"
   ]
  },
  {
   "cell_type": "code",
   "execution_count": 7,
   "id": "25d7042c",
   "metadata": {},
   "outputs": [
    {
     "name": "stdout",
     "output_type": "stream",
     "text": [
      "Enter the load at same hour in previous week: 2143\n",
      "Predicted load at present hour : 4040.1927154604855\n"
     ]
    }
   ],
   "source": [
    "x = float(input('Enter the load at same hour in previous week: '))\n",
    "x = (x - minX) / (maxX - minX)\n",
    "prediction = m * x + c\n",
    "prediction = (prediction * (maxY - minY)) + minY\n",
    "print('Predicted load at present hour :', prediction)"
   ]
  },
  {
   "cell_type": "code",
   "execution_count": null,
   "id": "31a72a10",
   "metadata": {},
   "outputs": [],
   "source": []
  }
 ],
 "metadata": {
  "kernelspec": {
   "display_name": "Python 3 (ipykernel)",
   "language": "python",
   "name": "python3"
  },
  "language_info": {
   "codemirror_mode": {
    "name": "ipython",
    "version": 3
   },
   "file_extension": ".py",
   "mimetype": "text/x-python",
   "name": "python",
   "nbconvert_exporter": "python",
   "pygments_lexer": "ipython3",
   "version": "3.9.7"
  }
 },
 "nbformat": 4,
 "nbformat_minor": 5
}
