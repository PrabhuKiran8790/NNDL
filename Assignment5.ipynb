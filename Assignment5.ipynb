{
 "cells": [
  {
   "cell_type": "code",
   "execution_count": null,
   "id": "82491a42",
   "metadata": {},
   "outputs": [],
   "source": [
    "import numpy as np\n",
    "import math as mt\n",
    "import random\n",
    "import pandas as pd"
   ]
  },
  {
   "cell_type": "code",
   "execution_count": null,
   "id": "709a4c96",
   "metadata": {},
   "outputs": [],
   "source": [
    "data = pd.read_excel('Load Data in kW.xlsx')\n",
    "data.head()"
   ]
  },
  {
   "cell_type": "code",
   "execution_count": null,
   "id": "fbbedb62",
   "metadata": {},
   "outputs": [],
   "source": [
    "x = []\n",
    "y = []\n",
    "for i in range(24 * 7, data.shape[0]):\n",
    "    x.append(data['Load (kW)'].iloc[i - 24 * 7])\n",
    "    y.append(data['Load (kW)'].iloc[i])\n",
    "data = pd.DataFrame({'Previous Week Load' : x, 'Present Week Load' : y})\n",
    "data.rename(columns={'Previous Week Load': 'x',\n",
    "                   'Present Week Load': 'y'},\n",
    "          inplace=True)\n",
    "data.head()"
   ]
  },
  {
   "cell_type": "code",
   "execution_count": null,
   "id": "5ef9672f",
   "metadata": {},
   "outputs": [],
   "source": [
    "x_min = data['x'].min()\n",
    "x_max = data['x'].max()\n",
    "\n",
    "y_min = data['y'].min()\n",
    "y_max = data['y'].max()"
   ]
  },
  {
   "cell_type": "code",
   "execution_count": null,
   "id": "b2cd986a",
   "metadata": {},
   "outputs": [],
   "source": [
    "from sklearn.preprocessing import MinMaxScaler\n",
    "scaler = MinMaxScaler()\n",
    "num_vars = ['x', 'y']\n",
    "data[num_vars] = scaler.fit_transform(data[num_vars])\n",
    "data.head()"
   ]
  },
  {
   "cell_type": "code",
   "execution_count": null,
   "id": "edad0f54",
   "metadata": {},
   "outputs": [],
   "source": [
    "from sklearn.model_selection import train_test_split\n",
    "x_train, x_test, y_train, y_test = train_test_split(data.x, data.y, test_size = 0.20, random_state = 101)"
   ]
  },
  {
   "cell_type": "code",
   "execution_count": null,
   "id": "10cc17a7",
   "metadata": {},
   "outputs": [],
   "source": [
    "m = random.uniform(-10,10)\n",
    "c = random.uniform(-10,10)\n",
    "eta = 0.1\n",
    "epochs = 1000\n",
    "c_vel = 0.9\n",
    "em = 0\n",
    "ec = 0\n",
    "epsilon = 1E-6\n",
    "\n",
    "for iter in range(epochs):\n",
    "  for sample in range(x_train.shape[0]):\n",
    "    \n",
    "    m_deriv = -1 * (y_train.iloc[sample] - m * x_train.iloc[sample] - c) * x_train.iloc[sample]\n",
    "    c_deriv = -1 * (y_train.iloc[sample] - m * x_train.iloc[sample] - c)\n",
    "    em = (c_vel * em) + ((1 - c_vel) * (m_deriv ** 2)) \n",
    "    ec = (c_vel * ec) + ((1 - c_vel) * (c_deriv ** 2)) \n",
    "    eta_m = (eta/(mt.sqrt(em + epsilon))) * m_deriv\n",
    "    eta_c = (eta/(mt.sqrt(ec + epsilon))) * c_deriv\n",
    "    m = m - eta_m\n",
    "    c = c - eta_c"
   ]
  },
  {
   "cell_type": "code",
   "execution_count": null,
   "id": "135d2c31",
   "metadata": {},
   "outputs": [],
   "source": [
    "y_pred_train = []\n",
    "for i in x_train:\n",
    "  y_p_tr = (m * i) + c\n",
    "  y_pred_train.append(y_p_tr)\n",
    "    \n",
    "y_pred_train = np.array(y_pred_train)\n",
    "y_pred_test = []\n",
    "for i in x_test:\n",
    "  y_p_te = (m * i) + c\n",
    "  y_pred_test.append(y_p_te)\n",
    "y_pred_test = np.array(y_pred_test)"
   ]
  },
  {
   "cell_type": "code",
   "execution_count": null,
   "id": "2580170f",
   "metadata": {},
   "outputs": [],
   "source": [
    "import math\n",
    "from sklearn.metrics import mean_squared_error \n",
    "from sklearn.metrics import mean_absolute_error\n",
    "\n",
    "print('TRAINING ERRORS\\n')\n",
    "rmse = math.sqrt(mean_squared_error(y_train, y_pred_train)) \n",
    "print('Root mean square error', rmse) \n",
    "mse = (mean_squared_error(y_train, y_pred_train)) \n",
    "print('Mean square error', mse) \n",
    "mae=mean_absolute_error(y_train, y_pred_train)\n",
    "print('Mean absolute error', mae)"
   ]
  },
  {
   "cell_type": "code",
   "execution_count": null,
   "id": "3903003b",
   "metadata": {},
   "outputs": [],
   "source": [
    "mse = math.sqrt(mean_squared_error(y_test, y_pred_test)) \n",
    "print('TESTING ERRORS\\n')\n",
    "print('Root mean square error', mse) \n",
    "mse = (mean_squared_error(y_test, y_pred_test)) \n",
    "print('Mean square error', mse) \n",
    "mae=mean_absolute_error(y_test, y_pred_test)\n",
    "print('Mean absolute error', mae)"
   ]
  },
  {
   "cell_type": "code",
   "execution_count": null,
   "id": "a13c6582",
   "metadata": {},
   "outputs": [],
   "source": [
    "x = float(input('Enter input value'))\n",
    "print('X=',x)\n",
    "\n",
    "x_nor = (x - x_min)/(x_max - x_min)\n",
    "y_nor = m*float(x_nor) + c\n",
    "\n",
    "Y = y_nor*(y_max - y_min) + y_min\n",
    "print('Output = ',Y)"
   ]
  },
  {
   "cell_type": "code",
   "execution_count": null,
   "id": "32171d78",
   "metadata": {},
   "outputs": [],
   "source": []
  }
 ],
 "metadata": {
  "kernelspec": {
   "display_name": "Python 3 (ipykernel)",
   "language": "python",
   "name": "python3"
  },
  "language_info": {
   "codemirror_mode": {
    "name": "ipython",
    "version": 3
   },
   "file_extension": ".py",
   "mimetype": "text/x-python",
   "name": "python",
   "nbconvert_exporter": "python",
   "pygments_lexer": "ipython3",
   "version": "3.9.7"
  }
 },
 "nbformat": 4,
 "nbformat_minor": 5
}
