{
 "cells": [
  {
   "cell_type": "code",
   "execution_count": 1,
   "id": "1491f51f",
   "metadata": {},
   "outputs": [],
   "source": [
    "import os\n",
    "import pandas as pd\n",
    "import numpy as np\n",
    "from sklearn.model_selection import train_test_split"
   ]
  },
  {
   "cell_type": "code",
   "execution_count": 2,
   "id": "c530a1a7",
   "metadata": {},
   "outputs": [
    {
     "name": "stdout",
     "output_type": "stream",
     "text": [
      "(2184, 3)\n"
     ]
    },
    {
     "data": {
      "text/html": [
       "<div>\n",
       "<style scoped>\n",
       "    .dataframe tbody tr th:only-of-type {\n",
       "        vertical-align: middle;\n",
       "    }\n",
       "\n",
       "    .dataframe tbody tr th {\n",
       "        vertical-align: top;\n",
       "    }\n",
       "\n",
       "    .dataframe thead th {\n",
       "        text-align: right;\n",
       "    }\n",
       "</style>\n",
       "<table border=\"1\" class=\"dataframe\">\n",
       "  <thead>\n",
       "    <tr style=\"text-align: right;\">\n",
       "      <th></th>\n",
       "      <th>Date</th>\n",
       "      <th>Time</th>\n",
       "      <th>Load (kW)</th>\n",
       "    </tr>\n",
       "  </thead>\n",
       "  <tbody>\n",
       "    <tr>\n",
       "      <th>0</th>\n",
       "      <td>01.09.2018</td>\n",
       "      <td>00:00:00</td>\n",
       "      <td>5551.82208</td>\n",
       "    </tr>\n",
       "    <tr>\n",
       "      <th>1</th>\n",
       "      <td>NaN</td>\n",
       "      <td>01:00:00</td>\n",
       "      <td>4983.17184</td>\n",
       "    </tr>\n",
       "    <tr>\n",
       "      <th>2</th>\n",
       "      <td>NaN</td>\n",
       "      <td>02:00:00</td>\n",
       "      <td>4888.39680</td>\n",
       "    </tr>\n",
       "    <tr>\n",
       "      <th>3</th>\n",
       "      <td>NaN</td>\n",
       "      <td>03:00:00</td>\n",
       "      <td>5072.95872</td>\n",
       "    </tr>\n",
       "    <tr>\n",
       "      <th>4</th>\n",
       "      <td>NaN</td>\n",
       "      <td>04:00:00</td>\n",
       "      <td>5196.25980</td>\n",
       "    </tr>\n",
       "  </tbody>\n",
       "</table>\n",
       "</div>"
      ],
      "text/plain": [
       "         Date      Time   Load (kW)\n",
       "0  01.09.2018  00:00:00  5551.82208\n",
       "1         NaN  01:00:00  4983.17184\n",
       "2         NaN  02:00:00  4888.39680\n",
       "3         NaN  03:00:00  5072.95872\n",
       "4         NaN  04:00:00  5196.25980"
      ]
     },
     "execution_count": 2,
     "metadata": {},
     "output_type": "execute_result"
    }
   ],
   "source": [
    "data = pd.read_excel('Load Data in kW.xlsx')\n",
    "print(data.shape)\n",
    "data.head()"
   ]
  },
  {
   "cell_type": "code",
   "execution_count": 3,
   "id": "ddb30d4b",
   "metadata": {},
   "outputs": [],
   "source": [
    "x = []\n",
    "y = []\n",
    "for i in range(1, data.shape[0]):\n",
    "    x.append(data['Load (kW)'].iloc[i-1])\n",
    "    y.append(data['Load (kW)'].iloc[i])\n",
    "    \n",
    "data = pd.DataFrame({'Previous Hour Load' : x, 'Present Hour Load' : y})\n",
    "\n",
    "maxX = np.max(data['Previous Hour Load'])\n",
    "minX = np.min(data['Previous Hour Load'])\n",
    "maxY = np.max(data['Present Hour Load'])\n",
    "minY = np.min(data['Present Hour Load'])\n",
    "\n",
    "data['Previous Hour Load'] = (data['Previous Hour Load'] - minX) / (maxX - minX)\n",
    "data['Present Hour Load'] = (data['Present Hour Load'] - minY) / (maxY - minY)"
   ]
  },
  {
   "cell_type": "code",
   "execution_count": 4,
   "id": "4b35390b",
   "metadata": {},
   "outputs": [],
   "source": [
    "x = data['Previous Hour Load']\n",
    "y = data['Present Hour Load']\n",
    "trainX, testX, trainY, testY = train_test_split(x, y, test_size=0.1, random_state=101)"
   ]
  },
  {
   "cell_type": "code",
   "execution_count": null,
   "id": "33ccc490",
   "metadata": {},
   "outputs": [],
   "source": [
    "m = np.random.uniform(-5, 5)\n",
    "c = np.random.uniform(-5, 5)\n",
    "eta = 0.01\n",
    "epochs = 500\n",
    "vm = 0\n",
    "vc = 0\n",
    "v = 0.1\n",
    "\n",
    "# Loop for epochs\n",
    "for _ in range(epochs):\n",
    "    \n",
    "    for i in range(trainX.shape[0]):\n",
    "        # Calculating expected m and c values\n",
    "        tempM = m + v*vm\n",
    "        tempC = c + v*vc\n",
    "        \n",
    "        # Calculating Grad M\n",
    "        gradM = -1 * (trainY.iloc[i] - tempM * trainX.iloc[i] - tempC) * trainX.iloc[i]\n",
    "    \n",
    "        # Calculating Grad C\n",
    "        gradC = -1 * (trainY.iloc[i] - tempM * trainX.iloc[i] - tempC)\n",
    "        \n",
    "        # Calculating updated values of vm and vc\n",
    "        vm = (v * vm) - (eta * gradM)\n",
    "        vc = (v * vc) - (eta * gradC)\n",
    "        \n",
    "        # Updating m and c values\n",
    "        m += vm\n",
    "        c += vc"
   ]
  },
  {
   "cell_type": "code",
   "execution_count": null,
   "id": "86849a4c",
   "metadata": {},
   "outputs": [],
   "source": []
  }
 ],
 "metadata": {
  "kernelspec": {
   "display_name": "Python 3 (ipykernel)",
   "language": "python",
   "name": "python3"
  },
  "language_info": {
   "codemirror_mode": {
    "name": "ipython",
    "version": 3
   },
   "file_extension": ".py",
   "mimetype": "text/x-python",
   "name": "python",
   "nbconvert_exporter": "python",
   "pygments_lexer": "ipython3",
   "version": "3.9.7"
  }
 },
 "nbformat": 4,
 "nbformat_minor": 5
}
