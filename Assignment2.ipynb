{
 "cells": [
  {
   "cell_type": "code",
   "execution_count": 1,
   "id": "a6a05182",
   "metadata": {},
   "outputs": [],
   "source": [
    "import os\n",
    "import pandas as pd\n",
    "import numpy as np\n",
    "from sklearn.model_selection import train_test_split"
   ]
  },
  {
   "cell_type": "code",
   "execution_count": 3,
   "id": "8ac1ba9d",
   "metadata": {},
   "outputs": [
    {
     "data": {
      "text/html": [
       "<div>\n",
       "<style scoped>\n",
       "    .dataframe tbody tr th:only-of-type {\n",
       "        vertical-align: middle;\n",
       "    }\n",
       "\n",
       "    .dataframe tbody tr th {\n",
       "        vertical-align: top;\n",
       "    }\n",
       "\n",
       "    .dataframe thead th {\n",
       "        text-align: right;\n",
       "    }\n",
       "</style>\n",
       "<table border=\"1\" class=\"dataframe\">\n",
       "  <thead>\n",
       "    <tr style=\"text-align: right;\">\n",
       "      <th></th>\n",
       "      <th>Date</th>\n",
       "      <th>Time</th>\n",
       "      <th>Load (kW)</th>\n",
       "    </tr>\n",
       "  </thead>\n",
       "  <tbody>\n",
       "    <tr>\n",
       "      <th>0</th>\n",
       "      <td>01.09.2018</td>\n",
       "      <td>00:00:00</td>\n",
       "      <td>5551.82208</td>\n",
       "    </tr>\n",
       "    <tr>\n",
       "      <th>1</th>\n",
       "      <td>NaN</td>\n",
       "      <td>01:00:00</td>\n",
       "      <td>4983.17184</td>\n",
       "    </tr>\n",
       "    <tr>\n",
       "      <th>2</th>\n",
       "      <td>NaN</td>\n",
       "      <td>02:00:00</td>\n",
       "      <td>4888.39680</td>\n",
       "    </tr>\n",
       "    <tr>\n",
       "      <th>3</th>\n",
       "      <td>NaN</td>\n",
       "      <td>03:00:00</td>\n",
       "      <td>5072.95872</td>\n",
       "    </tr>\n",
       "    <tr>\n",
       "      <th>4</th>\n",
       "      <td>NaN</td>\n",
       "      <td>04:00:00</td>\n",
       "      <td>5196.25980</td>\n",
       "    </tr>\n",
       "    <tr>\n",
       "      <th>...</th>\n",
       "      <td>...</td>\n",
       "      <td>...</td>\n",
       "      <td>...</td>\n",
       "    </tr>\n",
       "    <tr>\n",
       "      <th>2179</th>\n",
       "      <td>NaN</td>\n",
       "      <td>1900-03-28 19:00:00</td>\n",
       "      <td>4626.51840</td>\n",
       "    </tr>\n",
       "    <tr>\n",
       "      <th>2180</th>\n",
       "      <td>NaN</td>\n",
       "      <td>1900-03-28 20:00:00</td>\n",
       "      <td>4567.90752</td>\n",
       "    </tr>\n",
       "    <tr>\n",
       "      <th>2181</th>\n",
       "      <td>NaN</td>\n",
       "      <td>1900-03-28 21:00:00</td>\n",
       "      <td>4723.63164</td>\n",
       "    </tr>\n",
       "    <tr>\n",
       "      <th>2182</th>\n",
       "      <td>NaN</td>\n",
       "      <td>1900-03-28 22:00:00</td>\n",
       "      <td>5150.27520</td>\n",
       "    </tr>\n",
       "    <tr>\n",
       "      <th>2183</th>\n",
       "      <td>NaN</td>\n",
       "      <td>1900-03-28 23:00:00</td>\n",
       "      <td>6938.37468</td>\n",
       "    </tr>\n",
       "  </tbody>\n",
       "</table>\n",
       "<p>2184 rows × 3 columns</p>\n",
       "</div>"
      ],
      "text/plain": [
       "            Date                 Time   Load (kW)\n",
       "0     01.09.2018             00:00:00  5551.82208\n",
       "1            NaN             01:00:00  4983.17184\n",
       "2            NaN             02:00:00  4888.39680\n",
       "3            NaN             03:00:00  5072.95872\n",
       "4            NaN             04:00:00  5196.25980\n",
       "...          ...                  ...         ...\n",
       "2179         NaN  1900-03-28 19:00:00  4626.51840\n",
       "2180         NaN  1900-03-28 20:00:00  4567.90752\n",
       "2181         NaN  1900-03-28 21:00:00  4723.63164\n",
       "2182         NaN  1900-03-28 22:00:00  5150.27520\n",
       "2183         NaN  1900-03-28 23:00:00  6938.37468\n",
       "\n",
       "[2184 rows x 3 columns]"
      ]
     },
     "execution_count": 3,
     "metadata": {},
     "output_type": "execute_result"
    }
   ],
   "source": [
    "data = pd.read_excel('Load Data in kW.xlsx')\n",
    "data"
   ]
  },
  {
   "cell_type": "code",
   "execution_count": 4,
   "id": "eee928a3",
   "metadata": {},
   "outputs": [],
   "source": [
    "x = []\n",
    "y = []\n",
    "for i in range(24, data.shape[0]):\n",
    "    x.append(data['Load (kW)'].iloc[i-24])\n",
    "    y.append(data['Load (kW)'].iloc[i])"
   ]
  },
  {
   "cell_type": "code",
   "execution_count": 5,
   "id": "a98a2525",
   "metadata": {},
   "outputs": [
    {
     "data": {
      "text/html": [
       "<div>\n",
       "<style scoped>\n",
       "    .dataframe tbody tr th:only-of-type {\n",
       "        vertical-align: middle;\n",
       "    }\n",
       "\n",
       "    .dataframe tbody tr th {\n",
       "        vertical-align: top;\n",
       "    }\n",
       "\n",
       "    .dataframe thead th {\n",
       "        text-align: right;\n",
       "    }\n",
       "</style>\n",
       "<table border=\"1\" class=\"dataframe\">\n",
       "  <thead>\n",
       "    <tr style=\"text-align: right;\">\n",
       "      <th></th>\n",
       "      <th>Previous Day Load</th>\n",
       "      <th>Present Day Load</th>\n",
       "    </tr>\n",
       "  </thead>\n",
       "  <tbody>\n",
       "    <tr>\n",
       "      <th>0</th>\n",
       "      <td>5551.82208</td>\n",
       "      <td>4931.26380</td>\n",
       "    </tr>\n",
       "    <tr>\n",
       "      <th>1</th>\n",
       "      <td>4983.17184</td>\n",
       "      <td>4775.53968</td>\n",
       "    </tr>\n",
       "    <tr>\n",
       "      <th>2</th>\n",
       "      <td>4888.39680</td>\n",
       "      <td>4713.81120</td>\n",
       "    </tr>\n",
       "    <tr>\n",
       "      <th>3</th>\n",
       "      <td>5072.95872</td>\n",
       "      <td>4689.02628</td>\n",
       "    </tr>\n",
       "    <tr>\n",
       "      <th>4</th>\n",
       "      <td>5196.25980</td>\n",
       "      <td>4844.75040</td>\n",
       "    </tr>\n",
       "  </tbody>\n",
       "</table>\n",
       "</div>"
      ],
      "text/plain": [
       "   Previous Day Load  Present Day Load\n",
       "0         5551.82208        4931.26380\n",
       "1         4983.17184        4775.53968\n",
       "2         4888.39680        4713.81120\n",
       "3         5072.95872        4689.02628\n",
       "4         5196.25980        4844.75040"
      ]
     },
     "execution_count": 5,
     "metadata": {},
     "output_type": "execute_result"
    }
   ],
   "source": [
    "data = pd.DataFrame({'Previous Day Load' : x, 'Present Day Load' : y})\n",
    "data.head()"
   ]
  },
  {
   "cell_type": "code",
   "execution_count": 6,
   "id": "ece408c6",
   "metadata": {},
   "outputs": [],
   "source": [
    "maxX = np.max(data['Previous Day Load'])\n",
    "minX = np.min(data['Previous Day Load'])\n",
    "maxY = np.max(data['Present Day Load'])\n",
    "minY = np.min(data['Present Day Load'])\n",
    "\n",
    "data['Previous Day Load'] = (data['Previous Day Load'] - minX) / (maxX - minX)\n",
    "data['Present Day Load'] = (data['Present Day Load'] - minY) / (maxY - minY)"
   ]
  },
  {
   "cell_type": "code",
   "execution_count": 7,
   "id": "bc8b9430",
   "metadata": {},
   "outputs": [],
   "source": [
    "x = data['Previous Day Load']\n",
    "y = data['Present Day Load']\n",
    "trainX, testX, trainY, testY = train_test_split(x, y, test_size=0.1, random_state=101)"
   ]
  },
  {
   "cell_type": "code",
   "execution_count": 9,
   "id": "2ddc625e",
   "metadata": {},
   "outputs": [
    {
     "name": "stdout",
     "output_type": "stream",
     "text": [
      "m = 0.7171132537325571\n",
      "c = 0.12511078784145233\n"
     ]
    }
   ],
   "source": [
    "m = np.random.uniform(-5, 5)\n",
    "c = np.random.uniform(-5, 5)\n",
    "eta = 0.01\n",
    "epochs = 200\n",
    "vm = 0\n",
    "vc = 0\n",
    "v = 0.5\n",
    "\n",
    "# Loop for epochs\n",
    "for _ in range(epochs):\n",
    "    \n",
    "    for i in range(trainX.shape[0]):\n",
    "        # Calculating Grad M\n",
    "        gradM = -1 * (trainY.iloc[i] - m * trainX.iloc[i] - c) * trainX.iloc[i]\n",
    "    \n",
    "        # Calculating Grad C\n",
    "        gradC = -1 * (trainY.iloc[i] - m * trainX.iloc[i] - c)\n",
    "        \n",
    "        # Calculating updated values of vm and vc\n",
    "        vm = (v * vm) - (eta * gradM)\n",
    "        vc = (v * vc) - (eta * gradC)\n",
    "        \n",
    "        # Updating m and c values\n",
    "        m += vm\n",
    "        c += vc\n",
    "\n",
    "# Print model parameters after training\n",
    "print(f'm = {m}\\nc = {c}')"
   ]
  },
  {
   "cell_type": "code",
   "execution_count": 11,
   "id": "92ff5461",
   "metadata": {},
   "outputs": [
    {
     "name": "stdout",
     "output_type": "stream",
     "text": [
      "Training Error :\n",
      "MAE : 533.2583331279446\n",
      "MSE : 519633.2481810661\n",
      "RMSE : 720.8559136062256\n",
      "Testing Error :\n",
      "MAE : 546.2799015481903\n",
      "MSE : 497098.195375769\n",
      "RMSE : 705.0519097029445\n"
     ]
    }
   ],
   "source": [
    "train_pred = [m * trainX.iloc[i] + c for i in range(trainX.shape[0])]\n",
    "test_pred = [m * testX.iloc[i] + c for i in range(testX.shape[0])]\n",
    "\n",
    "train_pred = [i * (maxY - minY) + minY for i in train_pred]\n",
    "test_pred = [i * (maxY - minY) + minY for i in test_pred]\n",
    "trainY = [i * (maxY - minY) + minY for i in trainY]\n",
    "testY = [i * (maxY - minY) + minY for i in testY]\n",
    "\n",
    "training_MAE = sum([abs(train_pred[i] - trainY[i]) for i in range(len(trainY))]) / len(trainY)\n",
    "training_MSE = sum([(train_pred[i] - trainY[i]) ** 2 for i in range(len(trainY))]) / len(trainY)\n",
    "training_RMSE = training_MSE ** 0.5\n",
    "print('Training Error :')\n",
    "print(f'MAE : {training_MAE}')\n",
    "print(f'MSE : {training_MSE}')\n",
    "print(f'RMSE : {training_RMSE}')\n",
    "\n",
    "testing_MAE = sum([abs(test_pred[i] - testY[i]) for i in range(len(testY))]) / len(testY)\n",
    "testing_MSE = sum([(test_pred[i] - testY[i]) ** 2 for i in range(len(testY))]) / len(testY)\n",
    "testing_RMSE = testing_MSE ** 0.5\n",
    "print('Testing Error :')\n",
    "print(f'MAE : {testing_MAE}')\n",
    "print(f'MSE : {testing_MSE}')\n",
    "print(f'RMSE : {testing_RMSE}')"
   ]
  },
  {
   "cell_type": "code",
   "execution_count": 12,
   "id": "4bcc029a",
   "metadata": {},
   "outputs": [
    {
     "name": "stdout",
     "output_type": "stream",
     "text": [
      "Enter the load at present hour on previouus day : 2453\n",
      "Predicted load at present hour : 3398.2215482584256\n"
     ]
    }
   ],
   "source": [
    "x = float(input('Enter the load at present hour on previouus day : '))\n",
    "x = (x - minX) / (maxX - minX)\n",
    "prediction = m * x + c\n",
    "prediction = (prediction * (maxY - minY)) + minY\n",
    "print('Predicted load at present hour :', prediction)"
   ]
  },
  {
   "cell_type": "code",
   "execution_count": null,
   "id": "e306ca48",
   "metadata": {},
   "outputs": [],
   "source": []
  }
 ],
 "metadata": {
  "kernelspec": {
   "display_name": "Python 3 (ipykernel)",
   "language": "python",
   "name": "python3"
  },
  "language_info": {
   "codemirror_mode": {
    "name": "ipython",
    "version": 3
   },
   "file_extension": ".py",
   "mimetype": "text/x-python",
   "name": "python",
   "nbconvert_exporter": "python",
   "pygments_lexer": "ipython3",
   "version": "3.9.7"
  }
 },
 "nbformat": 4,
 "nbformat_minor": 5
}
